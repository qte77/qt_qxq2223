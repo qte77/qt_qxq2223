{
 "cells": [
  {
   "cell_type": "markdown",
   "metadata": {},
   "source": [
    "# Initialise and load libraries\n",
    "\n",
    "[Modul 0 - Inhalt und Tools](https://lab.quantum-computing.ibm.com/user/61796c3680713161c7090721/lab/tree/qcmb-training/content/00-Inhalt_Tools.ipynb)"
   ]
  },
  {
   "cell_type": "code",
   "execution_count": null,
   "metadata": {},
   "outputs": [],
   "source": [
    "%%html\n",
    "<style>\n",
    "details {\n",
    "    display: block;\n",
    "    border: 1px solid black;\n",
    "    background-color: #eaeaff;\n",
    "    padding: 0.5em;\n",
    "    text-align: center;\n",
    "    margin: 0 8em;\n",
    "    cursor: pointer;\n",
    "}\n",
    "</style>"
   ]
  },
  {
   "cell_type": "code",
   "execution_count": null,
   "metadata": {},
   "outputs": [],
   "source": [
    "from warnings import simplefilter\n",
    "simplefilter(\"ignore\")"
   ]
  },
  {
   "cell_type": "code",
   "execution_count": null,
   "metadata": {},
   "outputs": [],
   "source": [
    "if 'google.colab' in str(get_ipython()):\n",
    "    %pip install -r requirements/req-ipynb.txt"
   ]
  },
  {
   "cell_type": "code",
   "execution_count": null,
   "metadata": {},
   "outputs": [],
   "source": [
    "import qiskit\n",
    "qiskit.__qiskit_version__"
   ]
  }
 ],
 "metadata": {
  "kernelspec": {
   "display_name": "Python 3.10.4 ('yfinance')",
   "language": "python",
   "name": "python3"
  },
  "language_info": {
   "name": "python",
   "version": "3.10.4"
  },
  "orig_nbformat": 4,
  "vscode": {
   "interpreter": {
    "hash": "140918fd5af3b354ce9eb25048b176259029c6fc95ed11f8a8bfe7040d1751bc"
   }
  }
 },
 "nbformat": 4,
 "nbformat_minor": 2
}
